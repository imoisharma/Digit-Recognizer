{
  "cells": [
    {
      "metadata": {
        "_uuid": "8f2839f25d086af736a60e9eeb907d3b93b6e0e5",
        "_cell_guid": "b1076dfc-b9ad-4769-8c92-a6c4dae69d19",
        "trusted": true
      },
      "cell_type": "code",
      "source": "# This Python 3 environment comes with many helpful analytics libraries installed\n# It is defined by the kaggle/python docker image: https://github.com/kaggle/docker-python\n# For example, here's several helpful packages to load in \n\nimport numpy as np # linear algebra\nimport pandas as pd # data processing, CSV file I/O (e.g. pd.read_csv)\n\n# Input data files are available in the \"../input/\" directory.\n# For example, running this (by clicking run or pressing Shift+Enter) will list the files in the input directory\n\nimport os\nprint(os.listdir(\"../input\"))\n\n# Any results you write to the current directory are saved as output.",
      "execution_count": null,
      "outputs": []
    },
    {
      "metadata": {
        "_cell_guid": "79c7e3d0-c299-4dcb-8224-4455121ee9b0",
        "collapsed": true,
        "_uuid": "d629ff2d2480ee46fbb7e2d37f6b5fab8052498a",
        "trusted": false
      },
      "cell_type": "markdown",
      "source": "## Introduction\nThis is a 5 layers Sequential Convolutional Neural Network for digits recognition trained on MNIST dataset. I choosed to build it with keras API (Tensorflow backend) which is very intuitive. Firstly, I will prepare the data (handwritten digits images) then i will focus on the CNN modeling and evaluation."
    },
    {
      "metadata": {
        "_uuid": "2fd51b981c740236dd2b66e02c6b2336ab00d7a2"
      },
      "cell_type": "markdown",
      "source": "### Importing the Libraries and Packages"
    },
    {
      "metadata": {
        "trusted": true,
        "_uuid": "44ae80d09385f734f6608a1dd290e73f64135282"
      },
      "cell_type": "code",
      "source": "import pandas as pd\nimport numpy as np\nimport matplotlib.pyplot as plt\nimport seaborn as sns\nimport matplotlib.image as mpimg\n%matplotlib inline",
      "execution_count": null,
      "outputs": []
    },
    {
      "metadata": {
        "trusted": true,
        "_uuid": "c3ef2efe4e4fb668e7448a39bfa18fcc28ae6f62"
      },
      "cell_type": "code",
      "source": "from sklearn.model_selection import train_test_split\nfrom sklearn.metrics import confusion_matrix\nimport itertools",
      "execution_count": null,
      "outputs": []
    },
    {
      "metadata": {
        "trusted": true,
        "_uuid": "ec593de8fd85d3db163daedee2f4e055e1433a85"
      },
      "cell_type": "code",
      "source": "from keras.utils.np_utils import to_categorical \nfrom keras.models import Sequential\nfrom keras.layers import Dense\nfrom keras.layers import Dropout\nfrom keras.layers import Flatten\nfrom keras.layers import MaxPool2D\nfrom keras.layers import Conv2D\nfrom keras.layers import Dense\nfrom keras.optimizers import RMSprop\nfrom keras.preprocessing.image import ImageDataGenerator\nfrom keras.callbacks import ReduceLROnPlateau",
      "execution_count": null,
      "outputs": []
    },
    {
      "metadata": {
        "trusted": true,
        "_uuid": "7f9727e7f39384bcf11623a4672329198a02a76d"
      },
      "cell_type": "code",
      "source": "sns.set(style='white', context='notebook', palette='deep')",
      "execution_count": null,
      "outputs": []
    },
    {
      "metadata": {
        "_uuid": "b8629f49ee49d583dc83c60945ce28fe2a8ff8ee"
      },
      "cell_type": "markdown",
      "source": "## Import the Data"
    },
    {
      "metadata": {
        "trusted": true,
        "_uuid": "c9bd9ab607f461eb494f40d0571ccf9353a1a49f"
      },
      "cell_type": "code",
      "source": "train = pd.read_csv('../input/train.csv')\ntest = pd.read_csv('../input/test.csv')",
      "execution_count": null,
      "outputs": []
    },
    {
      "metadata": {
        "trusted": true,
        "_uuid": "072709df2fb993fc7e2d3aa4047c6ca705f2d800"
      },
      "cell_type": "code",
      "source": "train.shape",
      "execution_count": null,
      "outputs": []
    },
    {
      "metadata": {
        "trusted": true,
        "_uuid": "f57196b2a0784cbb4834f3d7780872721f995ea0"
      },
      "cell_type": "code",
      "source": "test.shape",
      "execution_count": null,
      "outputs": []
    },
    {
      "metadata": {
        "trusted": true,
        "_uuid": "8af1583451445c99dad6746dd2a0eb0afa7b8cb1"
      },
      "cell_type": "code",
      "source": "train.head()",
      "execution_count": null,
      "outputs": []
    },
    {
      "metadata": {
        "trusted": true,
        "_uuid": "6d320cc8d21ea9827415732faea5fca8ffdadd7e"
      },
      "cell_type": "code",
      "source": "y_train = train['label']\n\n# Drop the Label column from train dataset so that we get independent variable in X\nX_train = train.drop(['label'], axis = 1 )\n\n# free some space\ndel train\n\ntr = sns.countplot(y_train)\ntr",
      "execution_count": null,
      "outputs": []
    },
    {
      "metadata": {
        "trusted": true,
        "_uuid": "a40344f5b974039bce7dba6805cc00d8dd748aa2"
      },
      "cell_type": "code",
      "source": "y_train.value_counts()   # Decreasing Order",
      "execution_count": null,
      "outputs": []
    },
    {
      "metadata": {
        "_uuid": "7d9d8764567eea9ff9de8170b9424e8f1857025e"
      },
      "cell_type": "markdown",
      "source": "## Let's check the Missing Data"
    },
    {
      "metadata": {
        "trusted": true,
        "_uuid": "ec820569d8c83668345e82fa3e5b7cedce884932"
      },
      "cell_type": "code",
      "source": "X_train.isnull().sum().describe()",
      "execution_count": null,
      "outputs": []
    },
    {
      "metadata": {
        "trusted": true,
        "_uuid": "0423e0728e683ec1ea879086e8bbe60e37ef14db"
      },
      "cell_type": "code",
      "source": "X_train.isnull().any().describe()    # No missing Value found",
      "execution_count": null,
      "outputs": []
    },
    {
      "metadata": {
        "trusted": true,
        "_uuid": "6d956cc88354d0da7227badaa8c9a3e2281812db"
      },
      "cell_type": "code",
      "source": "test.isnull().any().describe()    # No missing Value found",
      "execution_count": null,
      "outputs": []
    },
    {
      "metadata": {
        "_uuid": "a02d5eaadcf3ec130d894625ca28f7096310fa50"
      },
      "cell_type": "markdown",
      "source": "In our data set we don't find any missing values. So, we can proceed further unhesitantly."
    },
    {
      "metadata": {
        "_uuid": "b9a8448c604c6a49d959da9486c2c16f62cf8ed3"
      },
      "cell_type": "markdown",
      "source": "## Normalization\n\nWe perform a grayscale normalization to reduce the effect of illumination's differences.\nMoreover the CNN converg faster on [0..1] data than on [0..255]."
    },
    {
      "metadata": {
        "trusted": true,
        "_uuid": "6af345a84f6248d7fcad47d3ecc5cf3c29c821e7"
      },
      "cell_type": "code",
      "source": "X_train = X_train/255\ntest = test/255",
      "execution_count": null,
      "outputs": []
    },
    {
      "metadata": {
        "_uuid": "30210f2212c6d78634180316213bfc23b5029c49"
      },
      "cell_type": "markdown",
      "source": "### Reshape the image"
    },
    {
      "metadata": {
        "trusted": true,
        "_uuid": "8a1c4b845217d31d23739a89719c88308ef4b447"
      },
      "cell_type": "code",
      "source": "X_train = X_train.values.reshape(-1,28,28,1)\n\n#The -1 can be thought of as a flexible value for the library to fill in for you. \n# The restriction here would be that the inner-most shape of the Tensor should be (28, 28, 1). \n# Beyond that, the library can adjust things as needed. In this case, that would be the # of examples in a batch.\n\ntest = test.values.reshape(-1,28,28,1)",
      "execution_count": null,
      "outputs": []
    },
    {
      "metadata": {
        "_uuid": "3ca0f08d8b45e1cef748305d34f26ef7bc1539cb"
      },
      "cell_type": "markdown",
      "source": "### Label Encoding\nLabel encoding is simply converting each value in a column to a number"
    },
    {
      "metadata": {
        "trusted": true,
        "_uuid": "d849d8545010bf9e556b18f463389aa785da439d"
      },
      "cell_type": "code",
      "source": "y_train = to_categorical(y_train,num_classes=10)   #from keras.utils.np_utils import to_categorical ",
      "execution_count": null,
      "outputs": []
    },
    {
      "metadata": {
        "_uuid": "943bd4254abff2d42fa25d7f4011efb413ab6f72"
      },
      "cell_type": "markdown",
      "source": "Labels are 10 digits numbers from 0 to 9. We need to encode these lables to one hot vectors (ex : 2 -> [0,0,1,0,0,0,0,0,0,0])."
    },
    {
      "metadata": {
        "_uuid": "183cb039cc4a84776afca0488a3d73a3f830533c"
      },
      "cell_type": "markdown",
      "source": "## Split the Training and Validation Set"
    },
    {
      "metadata": {
        "trusted": true,
        "_uuid": "8917e1fea8b230bfa84a96ea3a15591a1f6e4901"
      },
      "cell_type": "code",
      "source": "X_train, X_val, y_train, y_val = train_test_split(X_train,y_train, test_size = 0.2, random_state = 2)",
      "execution_count": null,
      "outputs": []
    },
    {
      "metadata": {
        "_uuid": "45b095444f983ee8b30a77620ae6cd366de25cc8"
      },
      "cell_type": "markdown",
      "source": "### Let's see some images from train data"
    },
    {
      "metadata": {
        "trusted": true,
        "_uuid": "aab210499575e1ffd26a600a6e7dd404c8230abc"
      },
      "cell_type": "code",
      "source": "tr = plt.imshow(X_train[0][ :, : , 0] )",
      "execution_count": null,
      "outputs": []
    },
    {
      "metadata": {
        "trusted": true,
        "_uuid": "8b5bb7bc5906a5c70950b5e4506fbaa072bbfd88"
      },
      "cell_type": "code",
      "source": "tr = plt.imshow(X_train[98][ :, : , 0] )",
      "execution_count": null,
      "outputs": []
    },
    {
      "metadata": {
        "_uuid": "5ddf996608a983743f132876a94d6f436ac9d227"
      },
      "cell_type": "markdown",
      "source": "## CNN\nI am using the Keras Sequential API, where you have just to add one layer at a time, starting from the input.\n\nThe first is the convolutional (Conv2D) layer. It is like a set of learnable filters. I choosed to set 32 filters for the two firsts conv2D layers and 64 filters for the two last ones. Each filter transforms a part of the image (defined by the kernel size) using the kernel filter. The kernel filter matrix is applied on the whole image. Filters can be seen as a transformation of the image.\n\nThe CNN can isolate features that are useful everywhere from these transformed images (feature maps).\n\nThe second important layer in CNN is the pooling (MaxPool2D) layer. This layer simply acts as a downsampling filter. It looks at the 2 neighboring pixels and picks the maximal value. These are used to reduce computational cost, and to some extent also reduce overfitting. We have to choose the pooling size (i.e the area size pooled each time) more the pooling dimension is high, more the downsampling is important.\n\nCombining convolutional and pooling layers, CNN are able to combine local features and learn more global features of the image.\n\nDropout is a regularization method, where a proportion of nodes in the layer are randomly ignored (setting their wieghts to zero) for each training sample. This drops randomly a propotion of the network and forces the network to learn features in a distributed way. This technique also improves generalization and reduces the overfitting.\n\n'relu' is the rectifier (activation function max(0,x). The rectifier activation function is used to add non linearity to the network.\n\nThe Flatten layer is use to convert the final feature maps into a one single 1D vector. This flattening step is needed so that you can make use of fully connected layers after some convolutional/maxpool layers. It combines all the found local features of the previous convolutional layers.\n\nIn the end i used the features in two fully-connected (Dense) layers which is just artificial an neural networks (ANN) classifier. In the last layer(Dense(10,activation=\"softmax\")) the net outputs distribution of probability of each class."
    },
    {
      "metadata": {
        "_uuid": "3cbdbcff8da6de34036ccd77f4ac649a89f8be2f"
      },
      "cell_type": "markdown",
      "source": "## Set the CNN model \n### CNN architechture is In -> [[Conv2D->relu] * 2 -> MaxPool2D -> Dropout] * 2 -> Flatten -> Dense -> Dropout -> Out"
    },
    {
      "metadata": {
        "trusted": true,
        "_uuid": "4136db888eea6cd2c6da8a3b81bcd09c5fded8b4"
      },
      "cell_type": "code",
      "source": "obj = Sequential()\n\nobj.add(Conv2D(filters=32,kernel_size=(5,5),padding='same',activation='relu',input_shape = (28,28,1)))\nobj.add(Conv2D(filters=32,kernel_size=(5,5),padding='same',activation='relu'))\n        \nobj.add(MaxPool2D(pool_size=(2,2))) \nobj.add(Dropout(0.25))\n\nobj.add(Conv2D(filters = 64, kernel_size = (3,3),padding = 'Same', activation ='relu'))\nobj.add(Conv2D(filters = 64, kernel_size = (3,3),padding = 'Same', activation ='relu'))\nobj.add(MaxPool2D(pool_size=(2,2), strides=(2,2)))\nobj.add(Dropout(0.25))\n\nobj.add(Flatten())\nobj.add(Dense(256, activation = \"relu\"))\nobj.add(Dropout(0.5))\nobj.add(Dense(10, activation = \"softmax\"))",
      "execution_count": null,
      "outputs": []
    },
    {
      "metadata": {
        "_uuid": "7f6936d65413a335d691bd37d1c7cc8446d14583"
      },
      "cell_type": "markdown",
      "source": "### Set the optimizer and annealer\nOnce our layers are added to the model, we need to set up a score function, a loss function and an optimisation algorithm.\n\nWe define the loss function to measure how poorly our model performs on images with known labels. It is the error rate between the oberved labels and the predicted ones. We use a specific form for categorical classifications (>2 classes) called the \"categorical_crossentropy\".\n\nThe most important function is the optimizer. This function will iteratively improve parameters (filters kernel values, weights and bias of neurons ...) in order to minimise the loss.\n\nI choosed RMSprop (with default values), it is a very effective optimizer. The RMSProp update adjusts the Adagrad method in a very simple way in an attempt to reduce its aggressive, monotonically decreasing learning rate. We could also have used Stochastic Gradient Descent ('sgd') optimizer, but it is slower than RMSprop.\n\nThe metric function \"accuracy\" is used is to evaluate the performance our model. This metric function is similar to the loss function, except that the results from the metric evaluation are not used when training the model (only for evaluation)."
    },
    {
      "metadata": {
        "trusted": true,
        "_uuid": "2ab5bbca2a1d69bfb1c3f676af7db757b6883ba6"
      },
      "cell_type": "code",
      "source": "optimizer = RMSprop(lr=0.001, rho=0.9, epsilon=1e-08, decay=0.0)",
      "execution_count": null,
      "outputs": []
    },
    {
      "metadata": {
        "trusted": true,
        "_uuid": "f7f44fba0ab079392421e0315f36740eb7f7ec48"
      },
      "cell_type": "code",
      "source": "# Compile the model\nobj.compile(optimizer=optimizer, loss = \"categorical_crossentropy\", metrics=[\"accuracy\"])",
      "execution_count": null,
      "outputs": []
    },
    {
      "metadata": {
        "_uuid": "38f07173a814a9df4e947b214e63cfb66b6a857a"
      },
      "cell_type": "markdown",
      "source": "In order to make the optimizer converge faster and closest to the global minimum of the loss function, i used an annealing method of the learning rate (LR).\n\nThe LR is the step by which the optimizer walks through the 'loss landscape'. The higher LR, the bigger are the steps and the quicker is the convergence. However the sampling is very poor with an high LR and the optimizer could probably fall into a local minima.\n\nIts better to have a decreasing learning rate during the training to reach efficiently the global minimum of the loss function.\n\nTo keep the advantage of the fast computation time with a high LR, i decreased the LR dynamically every X steps (epochs) depending if it is necessary (when accuracy is not improved).\n\nWith the ReduceLROnPlateau function from Keras.callbacks, i choose to reduce the LR by half if the accuracy is not improved after 3 epochs."
    },
    {
      "metadata": {
        "trusted": true,
        "_uuid": "84b6354cf8cbddeaaa952116a802e639599b7f77"
      },
      "cell_type": "code",
      "source": "# Set a learning rate annealer\nlearning_rate = ReduceLROnPlateau(monitor='val_acc', patience=3,verbose=1,factor=0.5,min_lr=0.00001)",
      "execution_count": null,
      "outputs": []
    },
    {
      "metadata": {
        "trusted": true,
        "_uuid": "5625bb38d512eeb57d8e6dd9f88633f5193ad9be"
      },
      "cell_type": "code",
      "source": "epochs = 1\nbatch_size = 86",
      "execution_count": null,
      "outputs": []
    },
    {
      "metadata": {
        "_uuid": "3f2d4714acaacd4dbf9c5c088bed8fcaa32be11b"
      },
      "cell_type": "markdown",
      "source": "## Data augmentation\nIn order to avoid overfitting problem, we need to expand artificially our handwritten digit dataset. We can make your existing dataset even larger. The idea is to alter the training data with small transformations to reproduce the variations occuring when someone is writing a digit.\n\nFor example, the number is not centered The scale is not the same (some who write with big/small numbers) The image is rotated...\n\nApproaches that alter the training data in ways that change the array representation while keeping the label the same are known as data augmentation techniques. Some popular augmentations people use are grayscales, horizontal flips, vertical flips, random crops, color jitters, translations, rotations, and much more.\n\nBy applying just a couple of these transformations to our training data, we can easily double or triple the number of training examples and create a very robust model.\n\nThe improvement is important :\n\nWithout data augmentation i obtained an accuracy of 98.11%\n\nWith data augmentation i achieved 99.67% of accuracy (When you increase the no of epochs for example 25)\n\nNote :- When putting epochs = 25 it may takes several hours."
    },
    {
      "metadata": {
        "trusted": true,
        "_uuid": "985176410b97041f5501d983060f0a54dd65f487"
      },
      "cell_type": "code",
      "source": "# With data augmentation to prevent overfitting (accuracy 0.99286)\n\ndatagen = ImageDataGenerator(\n        featurewise_center=False,  # set input mean to 0 over the dataset\n        samplewise_center=False,  # set each sample mean to 0\n        featurewise_std_normalization=False,  # divide inputs by std of the dataset\n        samplewise_std_normalization=False,  # divide each input by its std\n        zca_whitening=False,  # apply ZCA whitening\n        rotation_range=10,  # randomly rotate images in the range (degrees, 0 to 180)\n        zoom_range = 0.1, # Randomly zoom image \n        width_shift_range=0.1,  # randomly shift images horizontally (fraction of total width)\n        height_shift_range=0.1,  # randomly shift images vertically (fraction of total height)\n        horizontal_flip=False,  # randomly flip images\n        vertical_flip=False)  # randomly flip images\n\n\ndatagen.fit(X_train)",
      "execution_count": null,
      "outputs": []
    },
    {
      "metadata": {
        "_uuid": "9c5f121b82a8f689bc0360d44e1320259b50edb4"
      },
      "cell_type": "markdown",
      "source": "For the data augmentation, i choosed to :\n\nRandomly rotate some training images by 10 degrees\nRandomly Zoom by 10% some training images\nRandomly shift images horizontally by 10% of the width\nRandomly shift images vertically by 10% of the height\nI did not apply a vertical_flip nor horizontal_flip since it could have lead to misclassify symetrical numbers such as 6 and 9.\n\nOnce our model is ready, we fit the training dataset .\n"
    },
    {
      "metadata": {
        "trusted": true,
        "_uuid": "3f343e0f95843141ed4fe5e7bac9eb5b387a6175"
      },
      "cell_type": "code",
      "source": "history = obj.fit_generator(datagen.flow(X_train,y_train, batch_size=batch_size),\n                              epochs = epochs, validation_data = (X_val,y_val),\n                              verbose = 2, steps_per_epoch=X_train.shape[0] // batch_size\n                              , callbacks=[learning_rate])",
      "execution_count": null,
      "outputs": []
    },
    {
      "metadata": {
        "trusted": true,
        "_uuid": "dc09a8419bf660aaae8907a321183b2538a1951c"
      },
      "cell_type": "code",
      "source": "# Without Data Augmentation\nhist = obj.fit(X_train, y_train, batch_size = batch_size, epochs = epochs, \n         validation_data = (X_val, y_val), verbose = 2)",
      "execution_count": null,
      "outputs": []
    },
    {
      "metadata": {
        "_uuid": "91652d6790c42107ae927d1a53357eea281f84b0"
      },
      "cell_type": "markdown",
      "source": "## Confusion Matrix"
    },
    {
      "metadata": {
        "trusted": true,
        "_uuid": "8abbf1876ea367dddede79d726b2bf6207417039"
      },
      "cell_type": "code",
      "source": "# Look at confusion matrix \n\ndef plot_confusion_matrix(cm, classes,\n                          normalize=False,\n                          title='Confusion matrix',\n                          cmap=plt.cm.Blues):\n    \"\"\"\n    This function prints and plots the confusion matrix.\n    Normalization can be applied by setting `normalize=True`.\n    \"\"\"\n    plt.imshow(cm, interpolation='nearest', cmap=cmap)\n    plt.title(title)\n    plt.colorbar()\n    tick_marks = np.arange(len(classes))\n    plt.xticks(tick_marks, classes, rotation=45)\n    plt.yticks(tick_marks, classes)\n\n    if normalize:\n        cm = cm.astype('float') / cm.sum(axis=1)[:, np.newaxis]\n\n    thresh = cm.max() / 2.\n    for i, j in itertools.product(range(cm.shape[0]), range(cm.shape[1])):\n        plt.text(j, i, cm[i, j],\n                 horizontalalignment=\"center\",\n                 color=\"white\" if cm[i, j] > thresh else \"black\")\n\n    plt.tight_layout()\n    plt.ylabel('True label')\n    plt.xlabel('Predicted label')\n\n# Predict the values from the validation dataset\ny_pred = obj.predict(X_val)\n# Convert predictions classes to one hot vectors \ny_pred_classes = np.argmax(y_pred,axis = 1) \n# Convert validation observations to one hot vectors\ny_true = np.argmax(y_val,axis = 1) \n# compute the confusion matrix\nconfusion_mtx = confusion_matrix(y_true, y_pred_classes) \n# plot the confusion matrix\nplot_confusion_matrix(confusion_mtx, classes = range(10))",
      "execution_count": null,
      "outputs": []
    },
    {
      "metadata": {
        "trusted": true,
        "_uuid": "976e34bc2fd6eac6cf9ae85f0a9172047a666ed9"
      },
      "cell_type": "markdown",
      "source": "Here we can see that our CNN performs very well on all digits with few errors considering the size of the validation set (4 200 images).\n\nHowever, it seems that our CNN has some little troubles with the 4 digits, hey are misclassified as 9. Sometime it is very difficult to catch the difference between 4 and 9 when curves are smooth.\n\nLet's investigate for errors.\n\nI want to see the most important errors . For that purpose i need to get the difference between the probabilities of real value and the predicted ones in the results."
    },
    {
      "metadata": {
        "trusted": true,
        "_uuid": "263fa282f4741c65148d1ee97b8edcb753745a55"
      },
      "cell_type": "code",
      "source": "# Display some error results \n\n# Errors are difference between predicted labels and true labels\nerrors = (y_pred_classes - y_true != 0)\n\ny_pred_classes_errors = y_pred_classes[errors]\ny_pred_errors = y_pred[errors]\ny_true_errors = y_true[errors]\nX_val_errors = X_val[errors]\n\ndef display_errors(errors_index,img_errors,pred_errors, obs_errors):\n    \"\"\" This function shows 6 images with their predicted and real labels\"\"\"\n    n = 0\n    nrows = 2\n    ncols = 3\n    fig, ax = plt.subplots(nrows,ncols,sharex=True,sharey=True)\n    for row in range(nrows):\n        for col in range(ncols):\n            error = errors_index[n]\n            ax[row,col].imshow((img_errors[error]).reshape((28,28)))\n            ax[row,col].set_title(\"Predicted label :{}\\nTrue label :{}\".format(pred_errors[error],obs_errors[error]))\n            n += 1\n\n# Probabilities of the wrong predicted numbers\ny_pred_errors_prob = np.max(y_pred_errors,axis = 1)\n\n# Predicted probabilities of the true values in the error set\ntrue_prob_errors = np.diagonal(np.take(y_pred_errors, y_true_errors, axis=1))\n\n# Difference between the probability of the predicted label and the true label\ndelta_pred_true_errors = y_pred_errors_prob - true_prob_errors\n\n# Sorted list of the delta prob errors\nsorted_dela_errors = np.argsort(delta_pred_true_errors)\n\n# Top 6 errors \nmost_important_errors = sorted_dela_errors[-6:]\n\n# Show the top 6 errors\ndisplay_errors(most_important_errors, X_val_errors, y_pred_classes_errors, y_true_errors)",
      "execution_count": null,
      "outputs": []
    },
    {
      "metadata": {
        "trusted": true,
        "_uuid": "39e4500894e43781a1fa2089eb99738705463924"
      },
      "cell_type": "code",
      "source": "# predict results\nresults = obj.predict(test)\n\n# select the indix with the maximum probability\nresults = np.argmax(results,axis = 1)\n\nresults = pd.Series(results,name=\"Label\")",
      "execution_count": null,
      "outputs": []
    },
    {
      "metadata": {
        "trusted": true,
        "_uuid": "e7d44df872bf1c64c593a6d712d05f2962cf85d7"
      },
      "cell_type": "code",
      "source": "submission = pd.concat([pd.Series(range(1,28001),name = \"ImageId\"),results],axis = 1)\nsubmission.to_csv(\"cnn_mnist_datagen.csv\",index=False)",
      "execution_count": null,
      "outputs": []
    },
    {
      "metadata": {
        "_uuid": "8796a4c813a2625e15be18a000326cc9f5eb2c88"
      },
      "cell_type": "markdown",
      "source": "# Thank You!"
    }
  ],
  "metadata": {
    "kernelspec": {
      "display_name": "Python 3",
      "language": "python",
      "name": "python3"
    },
    "language_info": {
      "name": "python",
      "version": "3.6.6",
      "mimetype": "text/x-python",
      "codemirror_mode": {
        "name": "ipython",
        "version": 3
      },
      "pygments_lexer": "ipython3",
      "nbconvert_exporter": "python",
      "file_extension": ".py"
    }
  },
  "nbformat": 4,
  "nbformat_minor": 1
}